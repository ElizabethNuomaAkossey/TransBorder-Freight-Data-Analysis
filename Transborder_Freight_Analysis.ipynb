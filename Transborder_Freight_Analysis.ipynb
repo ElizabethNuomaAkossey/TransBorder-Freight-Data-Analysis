{
 "cells": [
  {
   "cell_type": "markdown",
   "id": "1ba33a04",
   "metadata": {},
   "source": [
    "## Talent Mobility - Data Analytics\n",
    "\n",
    "### Transborder Freight Analysis"
   ]
  },
  {
   "cell_type": "markdown",
   "id": "c07cd5fc",
   "metadata": {},
   "source": [
    "## Importation of packages"
   ]
  },
  {
   "cell_type": "markdown",
   "id": "26b01ac9",
   "metadata": {},
   "source": [
    "## Data Importation"
   ]
  },
  {
   "cell_type": "code",
   "execution_count": 1,
   "id": "81a7a42e",
   "metadata": {},
   "outputs": [],
   "source": [
    "import os\n",
    "import zipfile\n",
    "import pandas as pd\n",
    "\n",
    "def process_data_from_directory(base_directory, output_file='combined_data.csv', file_format='csv'):\n",
    "    \"\"\"\n",
    "    Purpose of the function:\n",
    "    1. Unzip all zip files in nested folders.\n",
    "    2. Read all CSV files from both zip files and non-zipped folders into DataFrames.\n",
    "    3. Concatenate all the DataFrames into a single DataFrame, excluding those with 'ytd' in their filenames.\n",
    "    \"\"\"\n",
    "    # Unziping all zip files in nested folders\n",
    "    for root, dirs, files in os.walk(base_directory):\n",
    "        for file in files:\n",
    "            if file.endswith('.zip'):  \n",
    "                zip_file_path = os.path.join(root, file)\n",
    "                with zipfile.ZipFile(zip_file_path, 'r') as zip_ref:\n",
    "                    zip_ref.extractall(root) \n",
    "\n",
    "    # Reading all CSV files into a list of DataFrames, excluding files with 'ytd' in the filename\n",
    "    all_data = []\n",
    "    for root, dirs, files in os.walk(base_directory):\n",
    "        # Checking if the folder contains CSV files (whether it's a zip or non-zip folder)\n",
    "        for file in files:\n",
    "            if file.endswith('.csv'):  # If it's a CSV file\n",
    "                if 'ytd' in file.lower():  # Skip files with 'ytd' in their name\n",
    "                    print(f\"Skipping {file} as it contains 'ytd' in the filename.\")\n",
    "                    continue  # Skip this file\n",
    "                \n",
    "                file_path = os.path.join(root, file)\n",
    "                try:\n",
    "                    # Read CSV file into a DataFrame\n",
    "                    df = pd.read_csv(file_path, low_memory=False)\n",
    "                    all_data.append(df)\n",
    "                except Exception as e:\n",
    "                    print(f\"Error reading {file_path}: {e}\")\n",
    "\n",
    "    # Step 3: Concatenating all DataFrames into one\n",
    "    if all_data:\n",
    "        combined_data = pd.concat(all_data, ignore_index=True)\n",
    "        \n",
    "        # Save the combined data to the output file\n",
    "        combined_data.to_csv(output_file, index=False)\n",
    "        print(f\"Combined data saved to {output_file}\")\n",
    "        return combined_data\n",
    "    else:\n",
    "        print(\"No matching CSV files found.\")\n",
    "        return None"
   ]
  },
  {
   "cell_type": "code",
   "execution_count": 3,
   "id": "16e58c80",
   "metadata": {
    "scrolled": true
   },
   "outputs": [
    {
     "name": "stdout",
     "output_type": "stream",
     "text": [
      "Skipping dot1_ytd_0620.csv as it contains 'ytd' in the filename.\n",
      "Skipping dot1_ytd_0720.csv as it contains 'ytd' in the filename.\n",
      "Skipping dot2_ytd_0620.csv as it contains 'ytd' in the filename.\n",
      "Skipping dot2_ytd_0720.csv as it contains 'ytd' in the filename.\n",
      "Skipping dot3_ytd_0620.csv as it contains 'ytd' in the filename.\n",
      "Skipping dot3_ytd_0720.csv as it contains 'ytd' in the filename.\n",
      "Skipping dot1_ytd_0420.csv as it contains 'ytd' in the filename.\n",
      "Skipping dot2_ytd_0420.csv as it contains 'ytd' in the filename.\n",
      "Skipping dot3_ytd_0420.csv as it contains 'ytd' in the filename.\n",
      "Skipping dot1_ytd_0820.csv as it contains 'ytd' in the filename.\n",
      "Skipping dot2_ytd_0820.csv as it contains 'ytd' in the filename.\n",
      "Skipping dot3_ytd_0820.csv as it contains 'ytd' in the filename.\n",
      "Skipping dot1_ytd_0220.csv as it contains 'ytd' in the filename.\n",
      "Skipping dot2_ytd_0220.csv as it contains 'ytd' in the filename.\n",
      "Skipping dot3_ytd_0220.csv as it contains 'ytd' in the filename.\n",
      "Skipping dot1_ytd_0120.csv as it contains 'ytd' in the filename.\n",
      "Skipping dot2_ytd_0120.csv as it contains 'ytd' in the filename.\n",
      "Skipping dot3_ytd_0120.csv as it contains 'ytd' in the filename.\n",
      "Skipping dot1_ytd_0320.csv as it contains 'ytd' in the filename.\n",
      "Skipping dot2_ytd_0320.csv as it contains 'ytd' in the filename.\n",
      "Skipping dot3_ytd_0320.csv as it contains 'ytd' in the filename.\n",
      "Skipping dot1_ytd_0520.csv as it contains 'ytd' in the filename.\n",
      "Skipping dot2_ytd_0520.csv as it contains 'ytd' in the filename.\n",
      "Skipping dot3_ytd_0520.csv as it contains 'ytd' in the filename.\n",
      "Skipping dot1_ytd_0920.csv as it contains 'ytd' in the filename.\n",
      "Skipping dot2_ytd_0920.csv as it contains 'ytd' in the filename.\n",
      "Skipping dot3_ytd_0920.csv as it contains 'ytd' in the filename.\n",
      "Error reading TransportData\\2020\\__MACOSX\\._dot1_0720.csv: 'utf-8' codec can't decode byte 0xb1 in position 45: invalid start byte\n",
      "Skipping ._dot1_ytd_0720.csv as it contains 'ytd' in the filename.\n",
      "Error reading TransportData\\2020\\__MACOSX\\._dot2_0720.csv: 'utf-8' codec can't decode byte 0xb1 in position 45: invalid start byte\n",
      "Skipping ._dot2_ytd_0720.csv as it contains 'ytd' in the filename.\n",
      "Error reading TransportData\\2020\\__MACOSX\\._dot3_0720.csv: 'utf-8' codec can't decode byte 0xb1 in position 45: invalid start byte\n",
      "Skipping ._dot3_ytd_0720.csv as it contains 'ytd' in the filename.\n",
      "Skipping dot1_ytd_0421.csv as it contains 'ytd' in the filename.\n",
      "Skipping dot2_ytd_0421.csv as it contains 'ytd' in the filename.\n",
      "Skipping dot3_ytd_0421.csv as it contains 'ytd' in the filename.\n",
      "Skipping dot1_ytd_0221.csv as it contains 'ytd' in the filename.\n",
      "Skipping dot2_ytd_0221.csv as it contains 'ytd' in the filename.\n",
      "Skipping dot3_ytd_0221.csv as it contains 'ytd' in the filename.\n",
      "Skipping dot1_ytd_0121.csv as it contains 'ytd' in the filename.\n",
      "Skipping dot2_ytd_0121.csv as it contains 'ytd' in the filename.\n",
      "Skipping dot3_ytd_0121.csv as it contains 'ytd' in the filename.\n",
      "Skipping dot1_ytd_0721.csv as it contains 'ytd' in the filename.\n",
      "Skipping dot2_ytd_0721.csv as it contains 'ytd' in the filename.\n",
      "Skipping dot3_ytd_0721.csv as it contains 'ytd' in the filename.\n",
      "Skipping dot1_ytd_0621.csv as it contains 'ytd' in the filename.\n",
      "Skipping dot2_ytd_0621.csv as it contains 'ytd' in the filename.\n",
      "Skipping dot3_ytd_0621.csv as it contains 'ytd' in the filename.\n",
      "Skipping dot1_ytd_0321.csv as it contains 'ytd' in the filename.\n",
      "Skipping dot2_ytd_0321.csv as it contains 'ytd' in the filename.\n",
      "Skipping dot3_ytd_0321.csv as it contains 'ytd' in the filename.\n",
      "Skipping dot1_ytd_0521.csv as it contains 'ytd' in the filename.\n",
      "Skipping dot2_ytd_0521.csv as it contains 'ytd' in the filename.\n",
      "Skipping dot3_ytd_0521.csv as it contains 'ytd' in the filename.\n",
      "Skipping dot1_ytd_0821.csv as it contains 'ytd' in the filename.\n",
      "Skipping dot2_ytd_0821.csv as it contains 'ytd' in the filename.\n",
      "Skipping dot3_ytd_0821.csv as it contains 'ytd' in the filename.\n",
      "Skipping dot1_ytd_1221.csv as it contains 'ytd' in the filename.\n",
      "Skipping dot2_ytd_1221.csv as it contains 'ytd' in the filename.\n",
      "Skipping dot3_ytd_1221.csv as it contains 'ytd' in the filename.\n",
      "Skipping dot1_ytd_0721.csv as it contains 'ytd' in the filename.\n",
      "Skipping dot2_ytd_0721.csv as it contains 'ytd' in the filename.\n",
      "Skipping dot3_ytd_0721.csv as it contains 'ytd' in the filename.\n",
      "Skipping dot1_ytd_1121.csv as it contains 'ytd' in the filename.\n",
      "Skipping dot2_ytd_1121.csv as it contains 'ytd' in the filename.\n",
      "Skipping dot3_ytd_1121.csv as it contains 'ytd' in the filename.\n",
      "Skipping dot1_ytd_1021.csv as it contains 'ytd' in the filename.\n",
      "Skipping dot2_ytd_1021.csv as it contains 'ytd' in the filename.\n",
      "Skipping dot3_ytd_1021.csv as it contains 'ytd' in the filename.\n",
      "Skipping dot1_ytd_0921.csv as it contains 'ytd' in the filename.\n",
      "Skipping dot2_ytd_0921.csv as it contains 'ytd' in the filename.\n",
      "Skipping dot3_ytd_0921.csv as it contains 'ytd' in the filename.\n",
      "Skipping dot1_ytd_0422.csv as it contains 'ytd' in the filename.\n",
      "Skipping dot2_ytd_0422.csv as it contains 'ytd' in the filename.\n",
      "Skipping dot3_ytd_0422.csv as it contains 'ytd' in the filename.\n",
      "Skipping dot1_ytd_0822.csv as it contains 'ytd' in the filename.\n",
      "Skipping dot2_ytd_0822.csv as it contains 'ytd' in the filename.\n",
      "Skipping dot3_ytd_0822.csv as it contains 'ytd' in the filename.\n",
      "Skipping dot1_ytd_1222.csv as it contains 'ytd' in the filename.\n",
      "Skipping dot2_ytd_1222.csv as it contains 'ytd' in the filename.\n",
      "Skipping dot3_ytd_1222.csv as it contains 'ytd' in the filename.\n",
      "Skipping dot1_ytd_0222.csv as it contains 'ytd' in the filename.\n",
      "Skipping dot2_ytd_0222.csv as it contains 'ytd' in the filename.\n",
      "Skipping dot3_ytd_0222.csv as it contains 'ytd' in the filename.\n",
      "Skipping dot1_ytd_0122.csv as it contains 'ytd' in the filename.\n",
      "Skipping dot2_ytd_0122.csv as it contains 'ytd' in the filename.\n",
      "Skipping dot3_ytd_0122.csv as it contains 'ytd' in the filename.\n",
      "Skipping dot1_ytd_0722.csv as it contains 'ytd' in the filename.\n",
      "Skipping dot2_ytd_0722.csv as it contains 'ytd' in the filename.\n",
      "Skipping dot3_ytd_0722.csv as it contains 'ytd' in the filename.\n",
      "Skipping dot1_ytd_0622.csv as it contains 'ytd' in the filename.\n",
      "Skipping dot2_ytd_0622.csv as it contains 'ytd' in the filename.\n",
      "Skipping dot3_ytd_0622.csv as it contains 'ytd' in the filename.\n",
      "Skipping dot1_ytd_0322.csv as it contains 'ytd' in the filename.\n",
      "Skipping dot2_ytd_0322.csv as it contains 'ytd' in the filename.\n",
      "Skipping dot3_ytd_0322.csv as it contains 'ytd' in the filename.\n",
      "Skipping dot1_ytd_0522.csv as it contains 'ytd' in the filename.\n",
      "Skipping dot2_ytd_0522.csv as it contains 'ytd' in the filename.\n",
      "Skipping dot3_ytd_0522.csv as it contains 'ytd' in the filename.\n",
      "Skipping dot1_ytd_1122.csv as it contains 'ytd' in the filename.\n",
      "Skipping dot2_ytd_1122.csv as it contains 'ytd' in the filename.\n",
      "Skipping dot3_ytd_1122.csv as it contains 'ytd' in the filename.\n",
      "Skipping dot1_ytd_1022.csv as it contains 'ytd' in the filename.\n",
      "Skipping dot2_ytd_1022.csv as it contains 'ytd' in the filename.\n",
      "Skipping dot3_ytd_1022.csv as it contains 'ytd' in the filename.\n",
      "Skipping dot1_ytd_0922.csv as it contains 'ytd' in the filename.\n",
      "Skipping dot2_ytd_0922.csv as it contains 'ytd' in the filename.\n",
      "Skipping dot3_ytd_0922.csv as it contains 'ytd' in the filename.\n",
      "Skipping dot1_ytd_0423.csv as it contains 'ytd' in the filename.\n",
      "Skipping dot2_ytd_0423.csv as it contains 'ytd' in the filename.\n",
      "Skipping dot3_ytd_0423.csv as it contains 'ytd' in the filename.\n",
      "Skipping dot1_ytd_0823.csv as it contains 'ytd' in the filename.\n",
      "Skipping dot2_ytd_0823.csv as it contains 'ytd' in the filename.\n",
      "Skipping dot3_ytd_0823.csv as it contains 'ytd' in the filename.\n",
      "Skipping dot1_ytd_0223.csv as it contains 'ytd' in the filename.\n",
      "Skipping dot2_ytd_0223.csv as it contains 'ytd' in the filename.\n",
      "Skipping dot3_ytd_0223.csv as it contains 'ytd' in the filename.\n",
      "Skipping dot1_ytd_0123.csv as it contains 'ytd' in the filename.\n",
      "Skipping dot2_ytd_0123.csv as it contains 'ytd' in the filename.\n",
      "Skipping dot3_ytd_0123.csv as it contains 'ytd' in the filename.\n",
      "Skipping dot1_ytd_0723.csv as it contains 'ytd' in the filename.\n",
      "Skipping dot2_ytd_0723.csv as it contains 'ytd' in the filename.\n",
      "Skipping dot3_ytd_0723.csv as it contains 'ytd' in the filename.\n",
      "Skipping dot1_ytd_0623.csv as it contains 'ytd' in the filename.\n"
     ]
    },
    {
     "name": "stdout",
     "output_type": "stream",
     "text": [
      "Skipping dot2_ytd_0623.csv as it contains 'ytd' in the filename.\n",
      "Skipping dot3_ytd_0623.csv as it contains 'ytd' in the filename.\n",
      "Skipping dot1_ytd_0323.csv as it contains 'ytd' in the filename.\n",
      "Skipping dot2_ytd_0323.csv as it contains 'ytd' in the filename.\n",
      "Skipping dot3_ytd_0323.csv as it contains 'ytd' in the filename.\n",
      "Skipping dot1_ytd_0523.csv as it contains 'ytd' in the filename.\n",
      "Skipping dot2_ytd_0523.csv as it contains 'ytd' in the filename.\n",
      "Skipping dot3_ytd_0523.csv as it contains 'ytd' in the filename.\n",
      "Combined data saved to combined_transborder_freight1.csv\n",
      "   TRDTYPE USASTATE  DEPE  DISAGMOT MEXSTATE CANPROV  COUNTRY  VALUE  SHIPWT  \\\n",
      "0        1       AK  0712         5      NaN      XQ     1220   2864       0   \n",
      "1        1       AK  20XX         3      NaN      XA     1220   2938     336   \n",
      "2        1       AK  20XX         3      NaN      XA     1220   7957     133   \n",
      "3        1       AK  20XX         3      NaN      XC     1220  22874    2253   \n",
      "4        1       AK  20XX         3      NaN      XC     1220   7439       1   \n",
      "\n",
      "   FREIGHT_CHARGES   DF CONTCODE  MONTH  YEAR  COMMODITY2  \n",
      "0               19  1.0        X    6.0  2020         NaN  \n",
      "1               67  1.0        X    6.0  2020         NaN  \n",
      "2              138  2.0        X    6.0  2020         NaN  \n",
      "3              591  1.0        X    6.0  2020         NaN  \n",
      "4              108  2.0        X    6.0  2020         NaN  \n"
     ]
    }
   ],
   "source": [
    "# combines all csv files except those which contains ytd in their naming from 2020 -2024\n",
    "base_directory = 'TransportData'\n",
    "output_file = 'combined_transborder_freight1.csv'\n",
    "file_format = 'csv' \n",
    "combined_data = process_data_from_directory(base_directory, output_file, file_format)\n",
    "\n",
    "if combined_data is not None:\n",
    "    print(combined_data.head())"
   ]
  },
  {
   "cell_type": "markdown",
   "id": "b1fa31fb",
   "metadata": {},
   "source": [
    "## Exploratory Data Analysis"
   ]
  },
  {
   "cell_type": "markdown",
   "id": "54904a7e",
   "metadata": {},
   "source": [
    "### Data Cleaning and Validation"
   ]
  },
  {
   "cell_type": "code",
   "execution_count": 5,
   "id": "aa4301d9",
   "metadata": {
    "scrolled": true
   },
   "outputs": [
    {
     "data": {
      "text/html": [
       "<div>\n",
       "<style scoped>\n",
       "    .dataframe tbody tr th:only-of-type {\n",
       "        vertical-align: middle;\n",
       "    }\n",
       "\n",
       "    .dataframe tbody tr th {\n",
       "        vertical-align: top;\n",
       "    }\n",
       "\n",
       "    .dataframe thead th {\n",
       "        text-align: right;\n",
       "    }\n",
       "</style>\n",
       "<table border=\"1\" class=\"dataframe\">\n",
       "  <thead>\n",
       "    <tr style=\"text-align: right;\">\n",
       "      <th></th>\n",
       "      <th>TRDTYPE</th>\n",
       "      <th>USASTATE</th>\n",
       "      <th>DEPE</th>\n",
       "      <th>DISAGMOT</th>\n",
       "      <th>MEXSTATE</th>\n",
       "      <th>CANPROV</th>\n",
       "      <th>COUNTRY</th>\n",
       "      <th>VALUE</th>\n",
       "      <th>SHIPWT</th>\n",
       "      <th>FREIGHT_CHARGES</th>\n",
       "      <th>DF</th>\n",
       "      <th>CONTCODE</th>\n",
       "      <th>MONTH</th>\n",
       "      <th>YEAR</th>\n",
       "      <th>COMMODITY2</th>\n",
       "    </tr>\n",
       "  </thead>\n",
       "  <tbody>\n",
       "    <tr>\n",
       "      <th>0</th>\n",
       "      <td>1</td>\n",
       "      <td>AK</td>\n",
       "      <td>0712</td>\n",
       "      <td>5</td>\n",
       "      <td>NaN</td>\n",
       "      <td>XQ</td>\n",
       "      <td>1220</td>\n",
       "      <td>2864</td>\n",
       "      <td>0</td>\n",
       "      <td>19</td>\n",
       "      <td>1.0</td>\n",
       "      <td>X</td>\n",
       "      <td>6.0</td>\n",
       "      <td>2020</td>\n",
       "      <td>NaN</td>\n",
       "    </tr>\n",
       "    <tr>\n",
       "      <th>1</th>\n",
       "      <td>1</td>\n",
       "      <td>AK</td>\n",
       "      <td>20XX</td>\n",
       "      <td>3</td>\n",
       "      <td>NaN</td>\n",
       "      <td>XA</td>\n",
       "      <td>1220</td>\n",
       "      <td>2938</td>\n",
       "      <td>336</td>\n",
       "      <td>67</td>\n",
       "      <td>1.0</td>\n",
       "      <td>X</td>\n",
       "      <td>6.0</td>\n",
       "      <td>2020</td>\n",
       "      <td>NaN</td>\n",
       "    </tr>\n",
       "    <tr>\n",
       "      <th>2</th>\n",
       "      <td>1</td>\n",
       "      <td>AK</td>\n",
       "      <td>20XX</td>\n",
       "      <td>3</td>\n",
       "      <td>NaN</td>\n",
       "      <td>XA</td>\n",
       "      <td>1220</td>\n",
       "      <td>7957</td>\n",
       "      <td>133</td>\n",
       "      <td>138</td>\n",
       "      <td>2.0</td>\n",
       "      <td>X</td>\n",
       "      <td>6.0</td>\n",
       "      <td>2020</td>\n",
       "      <td>NaN</td>\n",
       "    </tr>\n",
       "    <tr>\n",
       "      <th>3</th>\n",
       "      <td>1</td>\n",
       "      <td>AK</td>\n",
       "      <td>20XX</td>\n",
       "      <td>3</td>\n",
       "      <td>NaN</td>\n",
       "      <td>XC</td>\n",
       "      <td>1220</td>\n",
       "      <td>22874</td>\n",
       "      <td>2253</td>\n",
       "      <td>591</td>\n",
       "      <td>1.0</td>\n",
       "      <td>X</td>\n",
       "      <td>6.0</td>\n",
       "      <td>2020</td>\n",
       "      <td>NaN</td>\n",
       "    </tr>\n",
       "    <tr>\n",
       "      <th>4</th>\n",
       "      <td>1</td>\n",
       "      <td>AK</td>\n",
       "      <td>20XX</td>\n",
       "      <td>3</td>\n",
       "      <td>NaN</td>\n",
       "      <td>XC</td>\n",
       "      <td>1220</td>\n",
       "      <td>7439</td>\n",
       "      <td>1</td>\n",
       "      <td>108</td>\n",
       "      <td>2.0</td>\n",
       "      <td>X</td>\n",
       "      <td>6.0</td>\n",
       "      <td>2020</td>\n",
       "      <td>NaN</td>\n",
       "    </tr>\n",
       "  </tbody>\n",
       "</table>\n",
       "</div>"
      ],
      "text/plain": [
       "   TRDTYPE USASTATE  DEPE  DISAGMOT MEXSTATE CANPROV  COUNTRY  VALUE  SHIPWT  \\\n",
       "0        1       AK  0712         5      NaN      XQ     1220   2864       0   \n",
       "1        1       AK  20XX         3      NaN      XA     1220   2938     336   \n",
       "2        1       AK  20XX         3      NaN      XA     1220   7957     133   \n",
       "3        1       AK  20XX         3      NaN      XC     1220  22874    2253   \n",
       "4        1       AK  20XX         3      NaN      XC     1220   7439       1   \n",
       "\n",
       "   FREIGHT_CHARGES   DF CONTCODE  MONTH  YEAR  COMMODITY2  \n",
       "0               19  1.0        X    6.0  2020         NaN  \n",
       "1               67  1.0        X    6.0  2020         NaN  \n",
       "2              138  2.0        X    6.0  2020         NaN  \n",
       "3              591  1.0        X    6.0  2020         NaN  \n",
       "4              108  2.0        X    6.0  2020         NaN  "
      ]
     },
     "execution_count": 5,
     "metadata": {},
     "output_type": "execute_result"
    }
   ],
   "source": [
    "combined_data.head()"
   ]
  },
  {
   "cell_type": "code",
   "execution_count": 6,
   "id": "5984b2ca",
   "metadata": {},
   "outputs": [
    {
     "data": {
      "text/plain": [
       "(7134361, 15)"
      ]
     },
     "execution_count": 6,
     "metadata": {},
     "output_type": "execute_result"
    }
   ],
   "source": [
    "#viewing the shape of the dataframe\n",
    "combined_data.shape"
   ]
  },
  {
   "cell_type": "code",
   "execution_count": 7,
   "id": "f4f1509a",
   "metadata": {},
   "outputs": [
    {
     "data": {
      "text/html": [
       "<div>\n",
       "<style scoped>\n",
       "    .dataframe tbody tr th:only-of-type {\n",
       "        vertical-align: middle;\n",
       "    }\n",
       "\n",
       "    .dataframe tbody tr th {\n",
       "        vertical-align: top;\n",
       "    }\n",
       "\n",
       "    .dataframe thead th {\n",
       "        text-align: right;\n",
       "    }\n",
       "</style>\n",
       "<table border=\"1\" class=\"dataframe\">\n",
       "  <thead>\n",
       "    <tr style=\"text-align: right;\">\n",
       "      <th></th>\n",
       "      <th>TRDTYPE</th>\n",
       "      <th>USASTATE</th>\n",
       "      <th>DEPE</th>\n",
       "      <th>DISAGMOT</th>\n",
       "      <th>MEXSTATE</th>\n",
       "      <th>CANPROV</th>\n",
       "      <th>COUNTRY</th>\n",
       "      <th>VALUE</th>\n",
       "      <th>SHIPWT</th>\n",
       "      <th>FREIGHT_CHARGES</th>\n",
       "      <th>DF</th>\n",
       "      <th>CONTCODE</th>\n",
       "      <th>MONTH</th>\n",
       "      <th>YEAR</th>\n",
       "      <th>COMMODITY2</th>\n",
       "    </tr>\n",
       "  </thead>\n",
       "  <tbody>\n",
       "    <tr>\n",
       "      <th>7134261</th>\n",
       "      <td>2</td>\n",
       "      <td>NaN</td>\n",
       "      <td>5501</td>\n",
       "      <td>5</td>\n",
       "      <td>NaN</td>\n",
       "      <td>NaN</td>\n",
       "      <td>2010</td>\n",
       "      <td>194576</td>\n",
       "      <td>2294</td>\n",
       "      <td>8294</td>\n",
       "      <td>NaN</td>\n",
       "      <td>0</td>\n",
       "      <td>5.0</td>\n",
       "      <td>2024</td>\n",
       "      <td>42.0</td>\n",
       "    </tr>\n",
       "    <tr>\n",
       "      <th>7134262</th>\n",
       "      <td>2</td>\n",
       "      <td>NaN</td>\n",
       "      <td>5501</td>\n",
       "      <td>9</td>\n",
       "      <td>NaN</td>\n",
       "      <td>NaN</td>\n",
       "      <td>2010</td>\n",
       "      <td>742074</td>\n",
       "      <td>1063440</td>\n",
       "      <td>58472</td>\n",
       "      <td>NaN</td>\n",
       "      <td>0</td>\n",
       "      <td>5.0</td>\n",
       "      <td>2024</td>\n",
       "      <td>48.0</td>\n",
       "    </tr>\n",
       "    <tr>\n",
       "      <th>7134263</th>\n",
       "      <td>2</td>\n",
       "      <td>NaN</td>\n",
       "      <td>5501</td>\n",
       "      <td>5</td>\n",
       "      <td>NaN</td>\n",
       "      <td>NaN</td>\n",
       "      <td>2010</td>\n",
       "      <td>45569</td>\n",
       "      <td>8426</td>\n",
       "      <td>1048</td>\n",
       "      <td>NaN</td>\n",
       "      <td>0</td>\n",
       "      <td>5.0</td>\n",
       "      <td>2024</td>\n",
       "      <td>49.0</td>\n",
       "    </tr>\n",
       "    <tr>\n",
       "      <th>7134264</th>\n",
       "      <td>2</td>\n",
       "      <td>NaN</td>\n",
       "      <td>5501</td>\n",
       "      <td>3</td>\n",
       "      <td>NaN</td>\n",
       "      <td>NaN</td>\n",
       "      <td>2010</td>\n",
       "      <td>344</td>\n",
       "      <td>33</td>\n",
       "      <td>116</td>\n",
       "      <td>NaN</td>\n",
       "      <td>0</td>\n",
       "      <td>5.0</td>\n",
       "      <td>2024</td>\n",
       "      <td>58.0</td>\n",
       "    </tr>\n",
       "    <tr>\n",
       "      <th>7134265</th>\n",
       "      <td>2</td>\n",
       "      <td>NaN</td>\n",
       "      <td>5501</td>\n",
       "      <td>5</td>\n",
       "      <td>NaN</td>\n",
       "      <td>NaN</td>\n",
       "      <td>2010</td>\n",
       "      <td>11931</td>\n",
       "      <td>226</td>\n",
       "      <td>1570</td>\n",
       "      <td>NaN</td>\n",
       "      <td>0</td>\n",
       "      <td>5.0</td>\n",
       "      <td>2024</td>\n",
       "      <td>58.0</td>\n",
       "    </tr>\n",
       "    <tr>\n",
       "      <th>...</th>\n",
       "      <td>...</td>\n",
       "      <td>...</td>\n",
       "      <td>...</td>\n",
       "      <td>...</td>\n",
       "      <td>...</td>\n",
       "      <td>...</td>\n",
       "      <td>...</td>\n",
       "      <td>...</td>\n",
       "      <td>...</td>\n",
       "      <td>...</td>\n",
       "      <td>...</td>\n",
       "      <td>...</td>\n",
       "      <td>...</td>\n",
       "      <td>...</td>\n",
       "      <td>...</td>\n",
       "    </tr>\n",
       "    <tr>\n",
       "      <th>7134356</th>\n",
       "      <td>2</td>\n",
       "      <td>NaN</td>\n",
       "      <td>55XX</td>\n",
       "      <td>5</td>\n",
       "      <td>NaN</td>\n",
       "      <td>NaN</td>\n",
       "      <td>1220</td>\n",
       "      <td>10986046</td>\n",
       "      <td>20806</td>\n",
       "      <td>4316</td>\n",
       "      <td>NaN</td>\n",
       "      <td>0</td>\n",
       "      <td>5.0</td>\n",
       "      <td>2024</td>\n",
       "      <td>98.0</td>\n",
       "    </tr>\n",
       "    <tr>\n",
       "      <th>7134357</th>\n",
       "      <td>2</td>\n",
       "      <td>NaN</td>\n",
       "      <td>55XX</td>\n",
       "      <td>8</td>\n",
       "      <td>NaN</td>\n",
       "      <td>NaN</td>\n",
       "      <td>2010</td>\n",
       "      <td>859994</td>\n",
       "      <td>7893</td>\n",
       "      <td>7893</td>\n",
       "      <td>NaN</td>\n",
       "      <td>0</td>\n",
       "      <td>5.0</td>\n",
       "      <td>2024</td>\n",
       "      <td>98.0</td>\n",
       "    </tr>\n",
       "    <tr>\n",
       "      <th>7134358</th>\n",
       "      <td>2</td>\n",
       "      <td>NaN</td>\n",
       "      <td>60XX</td>\n",
       "      <td>8</td>\n",
       "      <td>NaN</td>\n",
       "      <td>NaN</td>\n",
       "      <td>1220</td>\n",
       "      <td>103414</td>\n",
       "      <td>2722</td>\n",
       "      <td>200</td>\n",
       "      <td>NaN</td>\n",
       "      <td>0</td>\n",
       "      <td>5.0</td>\n",
       "      <td>2024</td>\n",
       "      <td>89.0</td>\n",
       "    </tr>\n",
       "    <tr>\n",
       "      <th>7134359</th>\n",
       "      <td>2</td>\n",
       "      <td>NaN</td>\n",
       "      <td>70XX</td>\n",
       "      <td>8</td>\n",
       "      <td>NaN</td>\n",
       "      <td>NaN</td>\n",
       "      <td>1220</td>\n",
       "      <td>240821611</td>\n",
       "      <td>0</td>\n",
       "      <td>0</td>\n",
       "      <td>NaN</td>\n",
       "      <td>0</td>\n",
       "      <td>5.0</td>\n",
       "      <td>2024</td>\n",
       "      <td>99.0</td>\n",
       "    </tr>\n",
       "    <tr>\n",
       "      <th>7134360</th>\n",
       "      <td>2</td>\n",
       "      <td>NaN</td>\n",
       "      <td>70XX</td>\n",
       "      <td>8</td>\n",
       "      <td>NaN</td>\n",
       "      <td>NaN</td>\n",
       "      <td>2010</td>\n",
       "      <td>244407687</td>\n",
       "      <td>0</td>\n",
       "      <td>0</td>\n",
       "      <td>NaN</td>\n",
       "      <td>0</td>\n",
       "      <td>5.0</td>\n",
       "      <td>2024</td>\n",
       "      <td>99.0</td>\n",
       "    </tr>\n",
       "  </tbody>\n",
       "</table>\n",
       "<p>100 rows × 15 columns</p>\n",
       "</div>"
      ],
      "text/plain": [
       "         TRDTYPE USASTATE  DEPE  DISAGMOT MEXSTATE CANPROV  COUNTRY  \\\n",
       "7134261        2      NaN  5501         5      NaN     NaN     2010   \n",
       "7134262        2      NaN  5501         9      NaN     NaN     2010   \n",
       "7134263        2      NaN  5501         5      NaN     NaN     2010   \n",
       "7134264        2      NaN  5501         3      NaN     NaN     2010   \n",
       "7134265        2      NaN  5501         5      NaN     NaN     2010   \n",
       "...          ...      ...   ...       ...      ...     ...      ...   \n",
       "7134356        2      NaN  55XX         5      NaN     NaN     1220   \n",
       "7134357        2      NaN  55XX         8      NaN     NaN     2010   \n",
       "7134358        2      NaN  60XX         8      NaN     NaN     1220   \n",
       "7134359        2      NaN  70XX         8      NaN     NaN     1220   \n",
       "7134360        2      NaN  70XX         8      NaN     NaN     2010   \n",
       "\n",
       "             VALUE   SHIPWT  FREIGHT_CHARGES  DF CONTCODE  MONTH  YEAR  \\\n",
       "7134261     194576     2294             8294 NaN        0    5.0  2024   \n",
       "7134262     742074  1063440            58472 NaN        0    5.0  2024   \n",
       "7134263      45569     8426             1048 NaN        0    5.0  2024   \n",
       "7134264        344       33              116 NaN        0    5.0  2024   \n",
       "7134265      11931      226             1570 NaN        0    5.0  2024   \n",
       "...            ...      ...              ...  ..      ...    ...   ...   \n",
       "7134356   10986046    20806             4316 NaN        0    5.0  2024   \n",
       "7134357     859994     7893             7893 NaN        0    5.0  2024   \n",
       "7134358     103414     2722              200 NaN        0    5.0  2024   \n",
       "7134359  240821611        0                0 NaN        0    5.0  2024   \n",
       "7134360  244407687        0                0 NaN        0    5.0  2024   \n",
       "\n",
       "         COMMODITY2  \n",
       "7134261        42.0  \n",
       "7134262        48.0  \n",
       "7134263        49.0  \n",
       "7134264        58.0  \n",
       "7134265        58.0  \n",
       "...             ...  \n",
       "7134356        98.0  \n",
       "7134357        98.0  \n",
       "7134358        89.0  \n",
       "7134359        99.0  \n",
       "7134360        99.0  \n",
       "\n",
       "[100 rows x 15 columns]"
      ]
     },
     "execution_count": 7,
     "metadata": {},
     "output_type": "execute_result"
    }
   ],
   "source": [
    "combined_data.tail(100)"
   ]
  },
  {
   "cell_type": "code",
   "execution_count": 8,
   "id": "317f244f",
   "metadata": {},
   "outputs": [
    {
     "data": {
      "text/plain": [
       "120474"
      ]
     },
     "execution_count": 8,
     "metadata": {},
     "output_type": "execute_result"
    }
   ],
   "source": [
    "#checking for number duplicates\n",
    "combined_data.duplicated().sum()"
   ]
  },
  {
   "cell_type": "code",
   "execution_count": 9,
   "id": "0ece60fe",
   "metadata": {},
   "outputs": [],
   "source": [
    "# dropping duplicate values\n",
    "combined_data = combined_data.drop_duplicates()"
   ]
  },
  {
   "cell_type": "code",
   "execution_count": 10,
   "id": "70e296ac",
   "metadata": {},
   "outputs": [
    {
     "data": {
      "text/plain": [
       "(7013887, 15)"
      ]
     },
     "execution_count": 10,
     "metadata": {},
     "output_type": "execute_result"
    }
   ],
   "source": [
    "#viewing shape of dataframe after dropping duplicates\n",
    "combined_data.shape"
   ]
  },
  {
   "cell_type": "code",
   "execution_count": 11,
   "id": "27c386c0",
   "metadata": {},
   "outputs": [
    {
     "data": {
      "text/html": [
       "<div>\n",
       "<style scoped>\n",
       "    .dataframe tbody tr th:only-of-type {\n",
       "        vertical-align: middle;\n",
       "    }\n",
       "\n",
       "    .dataframe tbody tr th {\n",
       "        vertical-align: top;\n",
       "    }\n",
       "\n",
       "    .dataframe thead th {\n",
       "        text-align: right;\n",
       "    }\n",
       "</style>\n",
       "<table border=\"1\" class=\"dataframe\">\n",
       "  <thead>\n",
       "    <tr style=\"text-align: right;\">\n",
       "      <th></th>\n",
       "      <th>TRDTYPE</th>\n",
       "      <th>USASTATE</th>\n",
       "      <th>DEPE</th>\n",
       "      <th>DISAGMOT</th>\n",
       "      <th>MEXSTATE</th>\n",
       "      <th>CANPROV</th>\n",
       "      <th>COUNTRY</th>\n",
       "      <th>VALUE</th>\n",
       "      <th>SHIPWT</th>\n",
       "      <th>FREIGHT_CHARGES</th>\n",
       "      <th>DF</th>\n",
       "      <th>CONTCODE</th>\n",
       "      <th>MONTH</th>\n",
       "      <th>YEAR</th>\n",
       "      <th>COMMODITY2</th>\n",
       "    </tr>\n",
       "  </thead>\n",
       "  <tbody>\n",
       "    <tr>\n",
       "      <th>0</th>\n",
       "      <td>1</td>\n",
       "      <td>AK</td>\n",
       "      <td>0712</td>\n",
       "      <td>5</td>\n",
       "      <td>NaN</td>\n",
       "      <td>XQ</td>\n",
       "      <td>1220</td>\n",
       "      <td>2864</td>\n",
       "      <td>0</td>\n",
       "      <td>19</td>\n",
       "      <td>1.0</td>\n",
       "      <td>X</td>\n",
       "      <td>6.0</td>\n",
       "      <td>2020</td>\n",
       "      <td>NaN</td>\n",
       "    </tr>\n",
       "    <tr>\n",
       "      <th>1</th>\n",
       "      <td>1</td>\n",
       "      <td>AK</td>\n",
       "      <td>20XX</td>\n",
       "      <td>3</td>\n",
       "      <td>NaN</td>\n",
       "      <td>XA</td>\n",
       "      <td>1220</td>\n",
       "      <td>2938</td>\n",
       "      <td>336</td>\n",
       "      <td>67</td>\n",
       "      <td>1.0</td>\n",
       "      <td>X</td>\n",
       "      <td>6.0</td>\n",
       "      <td>2020</td>\n",
       "      <td>NaN</td>\n",
       "    </tr>\n",
       "    <tr>\n",
       "      <th>2</th>\n",
       "      <td>1</td>\n",
       "      <td>AK</td>\n",
       "      <td>20XX</td>\n",
       "      <td>3</td>\n",
       "      <td>NaN</td>\n",
       "      <td>XA</td>\n",
       "      <td>1220</td>\n",
       "      <td>7957</td>\n",
       "      <td>133</td>\n",
       "      <td>138</td>\n",
       "      <td>2.0</td>\n",
       "      <td>X</td>\n",
       "      <td>6.0</td>\n",
       "      <td>2020</td>\n",
       "      <td>NaN</td>\n",
       "    </tr>\n",
       "    <tr>\n",
       "      <th>3</th>\n",
       "      <td>1</td>\n",
       "      <td>AK</td>\n",
       "      <td>20XX</td>\n",
       "      <td>3</td>\n",
       "      <td>NaN</td>\n",
       "      <td>XC</td>\n",
       "      <td>1220</td>\n",
       "      <td>22874</td>\n",
       "      <td>2253</td>\n",
       "      <td>591</td>\n",
       "      <td>1.0</td>\n",
       "      <td>X</td>\n",
       "      <td>6.0</td>\n",
       "      <td>2020</td>\n",
       "      <td>NaN</td>\n",
       "    </tr>\n",
       "    <tr>\n",
       "      <th>4</th>\n",
       "      <td>1</td>\n",
       "      <td>AK</td>\n",
       "      <td>20XX</td>\n",
       "      <td>3</td>\n",
       "      <td>NaN</td>\n",
       "      <td>XC</td>\n",
       "      <td>1220</td>\n",
       "      <td>7439</td>\n",
       "      <td>1</td>\n",
       "      <td>108</td>\n",
       "      <td>2.0</td>\n",
       "      <td>X</td>\n",
       "      <td>6.0</td>\n",
       "      <td>2020</td>\n",
       "      <td>NaN</td>\n",
       "    </tr>\n",
       "  </tbody>\n",
       "</table>\n",
       "</div>"
      ],
      "text/plain": [
       "   TRDTYPE USASTATE  DEPE  DISAGMOT MEXSTATE CANPROV  COUNTRY  VALUE  SHIPWT  \\\n",
       "0        1       AK  0712         5      NaN      XQ     1220   2864       0   \n",
       "1        1       AK  20XX         3      NaN      XA     1220   2938     336   \n",
       "2        1       AK  20XX         3      NaN      XA     1220   7957     133   \n",
       "3        1       AK  20XX         3      NaN      XC     1220  22874    2253   \n",
       "4        1       AK  20XX         3      NaN      XC     1220   7439       1   \n",
       "\n",
       "   FREIGHT_CHARGES   DF CONTCODE  MONTH  YEAR  COMMODITY2  \n",
       "0               19  1.0        X    6.0  2020         NaN  \n",
       "1               67  1.0        X    6.0  2020         NaN  \n",
       "2              138  2.0        X    6.0  2020         NaN  \n",
       "3              591  1.0        X    6.0  2020         NaN  \n",
       "4              108  2.0        X    6.0  2020         NaN  "
      ]
     },
     "execution_count": 11,
     "metadata": {},
     "output_type": "execute_result"
    }
   ],
   "source": [
    "combined_data.head()"
   ]
  },
  {
   "cell_type": "code",
   "execution_count": 12,
   "id": "f6a888ec",
   "metadata": {},
   "outputs": [
    {
     "data": {
      "text/html": [
       "<div>\n",
       "<style scoped>\n",
       "    .dataframe tbody tr th:only-of-type {\n",
       "        vertical-align: middle;\n",
       "    }\n",
       "\n",
       "    .dataframe tbody tr th {\n",
       "        vertical-align: top;\n",
       "    }\n",
       "\n",
       "    .dataframe thead th {\n",
       "        text-align: right;\n",
       "    }\n",
       "</style>\n",
       "<table border=\"1\" class=\"dataframe\">\n",
       "  <thead>\n",
       "    <tr style=\"text-align: right;\">\n",
       "      <th></th>\n",
       "      <th>TRDTYPE</th>\n",
       "      <th>USASTATE</th>\n",
       "      <th>DEPE</th>\n",
       "      <th>DISAGMOT</th>\n",
       "      <th>MEXSTATE</th>\n",
       "      <th>CANPROV</th>\n",
       "      <th>COUNTRY</th>\n",
       "      <th>VALUE</th>\n",
       "      <th>SHIPWT</th>\n",
       "      <th>FREIGHT_CHARGES</th>\n",
       "      <th>DF</th>\n",
       "      <th>CONTCODE</th>\n",
       "      <th>MONTH</th>\n",
       "      <th>YEAR</th>\n",
       "      <th>COMMODITY2</th>\n",
       "    </tr>\n",
       "  </thead>\n",
       "  <tbody>\n",
       "    <tr>\n",
       "      <th>7134356</th>\n",
       "      <td>2</td>\n",
       "      <td>NaN</td>\n",
       "      <td>55XX</td>\n",
       "      <td>5</td>\n",
       "      <td>NaN</td>\n",
       "      <td>NaN</td>\n",
       "      <td>1220</td>\n",
       "      <td>10986046</td>\n",
       "      <td>20806</td>\n",
       "      <td>4316</td>\n",
       "      <td>NaN</td>\n",
       "      <td>0</td>\n",
       "      <td>5.0</td>\n",
       "      <td>2024</td>\n",
       "      <td>98.0</td>\n",
       "    </tr>\n",
       "    <tr>\n",
       "      <th>7134357</th>\n",
       "      <td>2</td>\n",
       "      <td>NaN</td>\n",
       "      <td>55XX</td>\n",
       "      <td>8</td>\n",
       "      <td>NaN</td>\n",
       "      <td>NaN</td>\n",
       "      <td>2010</td>\n",
       "      <td>859994</td>\n",
       "      <td>7893</td>\n",
       "      <td>7893</td>\n",
       "      <td>NaN</td>\n",
       "      <td>0</td>\n",
       "      <td>5.0</td>\n",
       "      <td>2024</td>\n",
       "      <td>98.0</td>\n",
       "    </tr>\n",
       "    <tr>\n",
       "      <th>7134358</th>\n",
       "      <td>2</td>\n",
       "      <td>NaN</td>\n",
       "      <td>60XX</td>\n",
       "      <td>8</td>\n",
       "      <td>NaN</td>\n",
       "      <td>NaN</td>\n",
       "      <td>1220</td>\n",
       "      <td>103414</td>\n",
       "      <td>2722</td>\n",
       "      <td>200</td>\n",
       "      <td>NaN</td>\n",
       "      <td>0</td>\n",
       "      <td>5.0</td>\n",
       "      <td>2024</td>\n",
       "      <td>89.0</td>\n",
       "    </tr>\n",
       "    <tr>\n",
       "      <th>7134359</th>\n",
       "      <td>2</td>\n",
       "      <td>NaN</td>\n",
       "      <td>70XX</td>\n",
       "      <td>8</td>\n",
       "      <td>NaN</td>\n",
       "      <td>NaN</td>\n",
       "      <td>1220</td>\n",
       "      <td>240821611</td>\n",
       "      <td>0</td>\n",
       "      <td>0</td>\n",
       "      <td>NaN</td>\n",
       "      <td>0</td>\n",
       "      <td>5.0</td>\n",
       "      <td>2024</td>\n",
       "      <td>99.0</td>\n",
       "    </tr>\n",
       "    <tr>\n",
       "      <th>7134360</th>\n",
       "      <td>2</td>\n",
       "      <td>NaN</td>\n",
       "      <td>70XX</td>\n",
       "      <td>8</td>\n",
       "      <td>NaN</td>\n",
       "      <td>NaN</td>\n",
       "      <td>2010</td>\n",
       "      <td>244407687</td>\n",
       "      <td>0</td>\n",
       "      <td>0</td>\n",
       "      <td>NaN</td>\n",
       "      <td>0</td>\n",
       "      <td>5.0</td>\n",
       "      <td>2024</td>\n",
       "      <td>99.0</td>\n",
       "    </tr>\n",
       "  </tbody>\n",
       "</table>\n",
       "</div>"
      ],
      "text/plain": [
       "         TRDTYPE USASTATE  DEPE  DISAGMOT MEXSTATE CANPROV  COUNTRY  \\\n",
       "7134356        2      NaN  55XX         5      NaN     NaN     1220   \n",
       "7134357        2      NaN  55XX         8      NaN     NaN     2010   \n",
       "7134358        2      NaN  60XX         8      NaN     NaN     1220   \n",
       "7134359        2      NaN  70XX         8      NaN     NaN     1220   \n",
       "7134360        2      NaN  70XX         8      NaN     NaN     2010   \n",
       "\n",
       "             VALUE  SHIPWT  FREIGHT_CHARGES  DF CONTCODE  MONTH  YEAR  \\\n",
       "7134356   10986046   20806             4316 NaN        0    5.0  2024   \n",
       "7134357     859994    7893             7893 NaN        0    5.0  2024   \n",
       "7134358     103414    2722              200 NaN        0    5.0  2024   \n",
       "7134359  240821611       0                0 NaN        0    5.0  2024   \n",
       "7134360  244407687       0                0 NaN        0    5.0  2024   \n",
       "\n",
       "         COMMODITY2  \n",
       "7134356        98.0  \n",
       "7134357        98.0  \n",
       "7134358        89.0  \n",
       "7134359        99.0  \n",
       "7134360        99.0  "
      ]
     },
     "execution_count": 12,
     "metadata": {},
     "output_type": "execute_result"
    }
   ],
   "source": [
    "combined_data.tail()"
   ]
  },
  {
   "cell_type": "code",
   "execution_count": 13,
   "id": "96a2570c",
   "metadata": {},
   "outputs": [
    {
     "name": "stdout",
     "output_type": "stream",
     "text": [
      "<class 'pandas.core.frame.DataFrame'>\n",
      "Int64Index: 7013887 entries, 0 to 7134360\n",
      "Data columns (total 15 columns):\n",
      " #   Column           Dtype  \n",
      "---  ------           -----  \n",
      " 0   TRDTYPE          int64  \n",
      " 1   USASTATE         object \n",
      " 2   DEPE             object \n",
      " 3   DISAGMOT         int64  \n",
      " 4   MEXSTATE         object \n",
      " 5   CANPROV          object \n",
      " 6   COUNTRY          int64  \n",
      " 7   VALUE            int64  \n",
      " 8   SHIPWT           int64  \n",
      " 9   FREIGHT_CHARGES  int64  \n",
      " 10  DF               float64\n",
      " 11  CONTCODE         object \n",
      " 12  MONTH            float64\n",
      " 13  YEAR             int64  \n",
      " 14  COMMODITY2       float64\n",
      "dtypes: float64(3), int64(7), object(5)\n",
      "memory usage: 856.2+ MB\n"
     ]
    }
   ],
   "source": [
    "combined_data.info()"
   ]
  },
  {
   "cell_type": "code",
   "execution_count": 14,
   "id": "d043323f",
   "metadata": {},
   "outputs": [
    {
     "data": {
      "text/plain": [
       "8.0     610680\n",
       "6.0     607921\n",
       "9.0     606175\n",
       "3.0     605236\n",
       "7.0     604502\n",
       "5.0     603083\n",
       "4.0     601363\n",
       "2.0     593987\n",
       "1.0     588230\n",
       "10.0    371299\n",
       "11.0    366427\n",
       "12.0    358322\n",
       "Name: MONTH, dtype: int32"
      ]
     },
     "execution_count": 14,
     "metadata": {},
     "output_type": "execute_result"
    }
   ],
   "source": [
    "combined_data['MONTH'].value_counts().astype('int')"
   ]
  },
  {
   "cell_type": "code",
   "execution_count": 15,
   "id": "23b9bc5d",
   "metadata": {},
   "outputs": [],
   "source": [
    "# renaming the values of the month column\n",
    "combined_data[\"MONTH\"] = combined_data[\"MONTH\"].replace({1.0: 'January',\n",
    "    2.0: 'February',\n",
    "    3.0: 'March',\n",
    "    4.0: 'April',\n",
    "    5.0: 'May',\n",
    "    6.0: 'June',\n",
    "    7.0: 'July',\n",
    "    8.0: 'August',\n",
    "    9.0: 'September',\n",
    "    10.0: 'October',\n",
    "    11.0: 'November',\n",
    "    12.0: 'December'})"
   ]
  },
  {
   "cell_type": "code",
   "execution_count": 16,
   "id": "af43a030",
   "metadata": {},
   "outputs": [
    {
     "data": {
      "text/plain": [
       "August       610680\n",
       "June         607921\n",
       "September    606175\n",
       "March        605236\n",
       "July         604502\n",
       "May          603083\n",
       "April        601363\n",
       "February     593987\n",
       "January      588230\n",
       "October      371299\n",
       "November     366427\n",
       "December     358322\n",
       "Name: MONTH, dtype: object"
      ]
     },
     "execution_count": 16,
     "metadata": {},
     "output_type": "execute_result"
    }
   ],
   "source": [
    "#checking the value count of the month column and changing the datatype to string\n",
    "combined_data['MONTH'].value_counts().astype(str)"
   ]
  },
  {
   "cell_type": "code",
   "execution_count": 17,
   "id": "f3c6d352",
   "metadata": {},
   "outputs": [
    {
     "data": {
      "text/plain": [
       "XO    1021878\n",
       "XQ     670077\n",
       "XC     576886\n",
       "XA     489538\n",
       "XM     392387\n",
       "XS     203985\n",
       "XB     165547\n",
       "XN      78301\n",
       "XP      29566\n",
       "XW      18240\n",
       "OT       6065\n",
       "XY       2832\n",
       "XT        608\n",
       "XV        156\n",
       "Name: CANPROV, dtype: object"
      ]
     },
     "execution_count": 17,
     "metadata": {},
     "output_type": "execute_result"
    }
   ],
   "source": [
    "# changing the datatype of values in the 'CANPROV' column\n",
    "combined_data['CANPROV'].value_counts().astype(str)"
   ]
  },
  {
   "cell_type": "code",
   "execution_count": 18,
   "id": "9278279b",
   "metadata": {},
   "outputs": [
    {
     "data": {
      "text/plain": [
       "MX    194919\n",
       "NL    182797\n",
       "XX    162332\n",
       "CH    122411\n",
       "BC    120121\n",
       "DF    110533\n",
       "JA    108021\n",
       "CO     96407\n",
       "SO     92038\n",
       "QT     87758\n",
       "TM     87430\n",
       "GT     85698\n",
       "OT     82696\n",
       "SL     64789\n",
       "CM     53714\n",
       "PU     46175\n",
       "AG     43706\n",
       "SI     33663\n",
       "DG     29446\n",
       "HG     25560\n",
       "VE     23885\n",
       "MO     21863\n",
       "TL     17951\n",
       "MI     17671\n",
       "BS     15771\n",
       "ZA     14198\n",
       "QR     11659\n",
       "YU      9524\n",
       "TB      7039\n",
       "CL      5198\n",
       "CS      4069\n",
       "OA      3900\n",
       "GR      3574\n",
       "Name: MEXSTATE, dtype: object"
      ]
     },
     "execution_count": 18,
     "metadata": {},
     "output_type": "execute_result"
    }
   ],
   "source": [
    "# checking the value counts of the 'MEXSTATE' Column and changing the datatype to string\n",
    "combined_data['MEXSTATE'].value_counts().astype(str)"
   ]
  },
  {
   "cell_type": "code",
   "execution_count": 19,
   "id": "6bde7b6d",
   "metadata": {},
   "outputs": [
    {
     "data": {
      "text/plain": [
       "84.0    275335\n",
       "85.0    240089\n",
       "39.0    229016\n",
       "87.0    194243\n",
       "90.0    181961\n",
       "         ...  \n",
       "43.0      5758\n",
       "53.0      5461\n",
       "45.0      4918\n",
       "50.0      1798\n",
       "99.0       222\n",
       "Name: COMMODITY2, Length: 98, dtype: object"
      ]
     },
     "execution_count": 19,
     "metadata": {},
     "output_type": "execute_result"
    }
   ],
   "source": [
    "# checking the value counts of the 'COMMODITY2' Column and changing the datatype to string\n",
    "combined_data['COMMODITY2'].value_counts().astype(str)"
   ]
  },
  {
   "cell_type": "code",
   "execution_count": 20,
   "id": "f4eb7855",
   "metadata": {},
   "outputs": [
    {
     "data": {
      "text/plain": [
       "5    4572329\n",
       "3    1213999\n",
       "6     713575\n",
       "8     251907\n",
       "1     213492\n",
       "9      26339\n",
       "7      13961\n",
       "4       8285\n",
       "Name: DISAGMOT, dtype: int64"
      ]
     },
     "execution_count": 20,
     "metadata": {},
     "output_type": "execute_result"
    }
   ],
   "source": [
    "# checking the value counts of the 'DISAGMOT' Column\n",
    "combined_data['DISAGMOT'].value_counts()"
   ]
  },
  {
   "cell_type": "code",
   "execution_count": 21,
   "id": "9340eade",
   "metadata": {},
   "outputs": [],
   "source": [
    "# renaming values in the 'DISAGMOT' column #FTZ = Foreign Trade Zones\n",
    "combined_data[\"DISAGMOT\"] = combined_data[\"DISAGMOT\"].replace({1: 'Vessel',\n",
    "    3: 'Air',\n",
    "    4: 'Mail',\n",
    "    5: 'Truck',\n",
    "    6: 'Rail',\n",
    "    7: 'Pipeline',\n",
    "    8: 'Other',\n",
    "    9: 'FTZs'\n",
    "    })"
   ]
  },
  {
   "cell_type": "code",
   "execution_count": 22,
   "id": "79838387",
   "metadata": {},
   "outputs": [
    {
     "data": {
      "text/plain": [
       "Truck       4572329\n",
       "Air         1213999\n",
       "Rail         713575\n",
       "Other        251907\n",
       "Vessel       213492\n",
       "FTZs          26339\n",
       "Pipeline      13961\n",
       "Mail           8285\n",
       "Name: DISAGMOT, dtype: object"
      ]
     },
     "execution_count": 22,
     "metadata": {},
     "output_type": "execute_result"
    }
   ],
   "source": [
    "# checking the value counts of the 'DISAGMOT' Column and changing the datatype to string\n",
    "combined_data['DISAGMOT'].value_counts().astype(str)"
   ]
  },
  {
   "cell_type": "code",
   "execution_count": 23,
   "id": "7e378396",
   "metadata": {},
   "outputs": [
    {
     "name": "stdout",
     "output_type": "stream",
     "text": [
      "<class 'pandas.core.frame.DataFrame'>\n",
      "Int64Index: 7013887 entries, 0 to 7134360\n",
      "Data columns (total 15 columns):\n",
      " #   Column           Dtype  \n",
      "---  ------           -----  \n",
      " 0   TRDTYPE          int64  \n",
      " 1   USASTATE         object \n",
      " 2   DEPE             object \n",
      " 3   DISAGMOT         object \n",
      " 4   MEXSTATE         object \n",
      " 5   CANPROV          object \n",
      " 6   COUNTRY          int64  \n",
      " 7   VALUE            int64  \n",
      " 8   SHIPWT           int64  \n",
      " 9   FREIGHT_CHARGES  int64  \n",
      " 10  DF               float64\n",
      " 11  CONTCODE         object \n",
      " 12  MONTH            object \n",
      " 13  YEAR             int64  \n",
      " 14  COMMODITY2       float64\n",
      "dtypes: float64(2), int64(6), object(7)\n",
      "memory usage: 856.2+ MB\n"
     ]
    }
   ],
   "source": [
    "combined_data.info()"
   ]
  },
  {
   "cell_type": "code",
   "execution_count": 24,
   "id": "fc38715b",
   "metadata": {},
   "outputs": [
    {
     "data": {
      "text/plain": [
       "TX    375395\n",
       "CA    317963\n",
       "IL    256859\n",
       "OH    206231\n",
       "FL    202554\n",
       "NY    199890\n",
       "PA    199773\n",
       "MI    189296\n",
       "GA    183643\n",
       "NJ    179628\n",
       "WI    173541\n",
       "NC    171192\n",
       "IN    159713\n",
       "TN    154729\n",
       "MN    153418\n",
       "WA    143855\n",
       "MA    143568\n",
       "AZ    135508\n",
       "MO    133833\n",
       "SC    123304\n",
       "KY    123223\n",
       "VA    113428\n",
       "CO    111076\n",
       "CT    107528\n",
       "OR    104469\n",
       "IA    102444\n",
       "AL    100825\n",
       "KS     97972\n",
       "UT     96800\n",
       "MD     94832\n",
       "LA     85707\n",
       "NV     83610\n",
       "OK     83096\n",
       "MS     78213\n",
       "AR     74069\n",
       "NE     69728\n",
       "NH     69695\n",
       "ME     63817\n",
       "ID     63771\n",
       "RI     52602\n",
       "ND     52171\n",
       "DE     48559\n",
       "NM     48362\n",
       "MT     48225\n",
       "VT     46443\n",
       "SD     44466\n",
       "DU     40969\n",
       "WV     39940\n",
       "WY     29388\n",
       "AK     26873\n",
       "HI     14795\n",
       "DC     10576\n",
       "Name: USASTATE, dtype: object"
      ]
     },
     "execution_count": 24,
     "metadata": {},
     "output_type": "execute_result"
    }
   ],
   "source": [
    "combined_data['USASTATE'].value_counts().astype(str)"
   ]
  },
  {
   "cell_type": "code",
   "execution_count": 25,
   "id": "610741fc",
   "metadata": {},
   "outputs": [
    {
     "data": {
      "text/plain": [
       "1.0    3111037\n",
       "2.0    1558990\n",
       "Name: DF, dtype: int64"
      ]
     },
     "execution_count": 25,
     "metadata": {},
     "output_type": "execute_result"
    }
   ],
   "source": [
    "# checking the value counts of the 'DF' Column\n",
    "combined_data['DF'].value_counts()"
   ]
  },
  {
   "cell_type": "code",
   "execution_count": 26,
   "id": "c706984a",
   "metadata": {},
   "outputs": [],
   "source": [
    "# Renaming values in the 'DF' column\n",
    "combined_data[\"DF\"] = combined_data[\"DF\"].replace({1.0: 'Domestic',\n",
    "    2.0: 'Foreign'})"
   ]
  },
  {
   "cell_type": "code",
   "execution_count": 27,
   "id": "5ab7f635",
   "metadata": {},
   "outputs": [
    {
     "data": {
      "text/plain": [
       "Domestic    3111037\n",
       "Foreign     1558990\n",
       "Name: DF, dtype: object"
      ]
     },
     "execution_count": 27,
     "metadata": {},
     "output_type": "execute_result"
    }
   ],
   "source": [
    "# checking the value counts of the '' ColumnDF and changing the datatype to string\n",
    "combined_data[\"DF\"].value_counts().astype(str)"
   ]
  },
  {
   "cell_type": "code",
   "execution_count": 28,
   "id": "8a38697f",
   "metadata": {},
   "outputs": [
    {
     "data": {
      "text/plain": [
       "1220    4234562\n",
       "2010    2779325\n",
       "Name: COUNTRY, dtype: int64"
      ]
     },
     "execution_count": 28,
     "metadata": {},
     "output_type": "execute_result"
    }
   ],
   "source": [
    "# checking the value counts of the 'COUNTRY' Column\n",
    "combined_data['COUNTRY'].value_counts()"
   ]
  },
  {
   "cell_type": "code",
   "execution_count": 41,
   "id": "efb3d860",
   "metadata": {},
   "outputs": [],
   "source": [
    "# Renaming values in the 'COUNTRY' column\n",
    "combined_data[\"COUNTRY\"] = combined_data[\"COUNTRY\"].replace({1220: 'Canada',\n",
    "    2010: 'Mexico'})"
   ]
  },
  {
   "cell_type": "code",
   "execution_count": 42,
   "id": "bd50cb79",
   "metadata": {},
   "outputs": [
    {
     "data": {
      "text/plain": [
       "Canada    4234562\n",
       "Mexico    2779325\n",
       "Name: COUNTRY, dtype: object"
      ]
     },
     "execution_count": 42,
     "metadata": {},
     "output_type": "execute_result"
    }
   ],
   "source": [
    "# checking the value counts of the 'COUNTRY' Column and changing the datatype to string\n",
    "combined_data['COUNTRY'].value_counts().astype(str)"
   ]
  },
  {
   "cell_type": "code",
   "execution_count": 31,
   "id": "516b533a",
   "metadata": {
    "scrolled": true
   },
   "outputs": [
    {
     "data": {
      "text/plain": [
       "1    4670027\n",
       "2    2343860\n",
       "Name: TRDTYPE, dtype: int64"
      ]
     },
     "execution_count": 31,
     "metadata": {},
     "output_type": "execute_result"
    }
   ],
   "source": [
    "# checking the value counts of the 'TRDTYPE' Column\n",
    "combined_data['TRDTYPE'].value_counts()"
   ]
  },
  {
   "cell_type": "code",
   "execution_count": 32,
   "id": "7b0bfdb8",
   "metadata": {},
   "outputs": [],
   "source": [
    "# Renaming values in theb 'TRDTYPE' column\n",
    "combined_data[\"TRDTYPE\"] = combined_data[\"TRDTYPE\"].replace({1: 'Export',\n",
    "    2: 'Import'})"
   ]
  },
  {
   "cell_type": "code",
   "execution_count": 33,
   "id": "c071b3a9",
   "metadata": {},
   "outputs": [
    {
     "data": {
      "text/plain": [
       "Export    4670027\n",
       "Import    2343860\n",
       "Name: TRDTYPE, dtype: object"
      ]
     },
     "execution_count": 33,
     "metadata": {},
     "output_type": "execute_result"
    }
   ],
   "source": [
    "# checking the value counts of the 'TRDTYPE' Column and changing the datatype to string\n",
    "combined_data['TRDTYPE'].value_counts().astype(str)"
   ]
  },
  {
   "cell_type": "code",
   "execution_count": 34,
   "id": "5ce50cf1",
   "metadata": {},
   "outputs": [
    {
     "name": "stdout",
     "output_type": "stream",
     "text": [
      "<class 'pandas.core.frame.DataFrame'>\n",
      "Int64Index: 7013887 entries, 0 to 7134360\n",
      "Data columns (total 15 columns):\n",
      " #   Column           Dtype  \n",
      "---  ------           -----  \n",
      " 0   TRDTYPE          object \n",
      " 1   USASTATE         object \n",
      " 2   DEPE             object \n",
      " 3   DISAGMOT         object \n",
      " 4   MEXSTATE         object \n",
      " 5   CANPROV          object \n",
      " 6   COUNTRY          int64  \n",
      " 7   VALUE            int64  \n",
      " 8   SHIPWT           int64  \n",
      " 9   FREIGHT_CHARGES  int64  \n",
      " 10  DF               object \n",
      " 11  CONTCODE         object \n",
      " 12  MONTH            object \n",
      " 13  YEAR             int64  \n",
      " 14  COMMODITY2       float64\n",
      "dtypes: float64(1), int64(5), object(9)\n",
      "memory usage: 856.2+ MB\n"
     ]
    }
   ],
   "source": [
    "combined_data.info()"
   ]
  },
  {
   "cell_type": "code",
   "execution_count": 35,
   "id": "be2b0ab3",
   "metadata": {},
   "outputs": [
    {
     "data": {
      "text/plain": [
       "0    3883582\n",
       "X    2573713\n",
       "1     556592\n",
       "Name: CONTCODE, dtype: int64"
      ]
     },
     "execution_count": 35,
     "metadata": {},
     "output_type": "execute_result"
    }
   ],
   "source": [
    "# checking the value counts of the 'CONTCODE' Column\n",
    "combined_data['CONTCODE'].value_counts()"
   ]
  },
  {
   "cell_type": "code",
   "execution_count": 36,
   "id": "b62b5e5a",
   "metadata": {},
   "outputs": [
    {
     "data": {
      "text/plain": [
       "2022    1723663\n",
       "2021    1682774\n",
       "2023    1483475\n",
       "2024    1108543\n",
       "2020    1015432\n",
       "Name: YEAR, dtype: int64"
      ]
     },
     "execution_count": 36,
     "metadata": {},
     "output_type": "execute_result"
    }
   ],
   "source": [
    "# checking the value counts of the 'YEAR' Column\n",
    "combined_data['YEAR'].value_counts()"
   ]
  },
  {
   "cell_type": "code",
   "execution_count": 37,
   "id": "bc960156",
   "metadata": {},
   "outputs": [
    {
     "data": {
      "text/plain": [
       "2304    214729\n",
       "3802     95782\n",
       "20XX     91372\n",
       "0901     87697\n",
       "3801     79056\n",
       "         ...  \n",
       "2481        17\n",
       "3881        10\n",
       "0182         6\n",
       "0152         4\n",
       "3385         2\n",
       "Name: DEPE, Length: 246, dtype: int64"
      ]
     },
     "execution_count": 37,
     "metadata": {},
     "output_type": "execute_result"
    }
   ],
   "source": [
    "# checking the value counts of the 'DEPE' Column\n",
    "combined_data['DEPE'].value_counts()"
   ]
  },
  {
   "cell_type": "code",
   "execution_count": 38,
   "id": "e6b05c8a",
   "metadata": {
    "scrolled": false
   },
   "outputs": [
    {
     "data": {
      "text/plain": [
       "84.0    275335\n",
       "85.0    240089\n",
       "39.0    229016\n",
       "87.0    194243\n",
       "90.0    181961\n",
       "         ...  \n",
       "43.0      5758\n",
       "53.0      5461\n",
       "45.0      4918\n",
       "50.0      1798\n",
       "99.0       222\n",
       "Name: COMMODITY2, Length: 98, dtype: object"
      ]
     },
     "execution_count": 38,
     "metadata": {},
     "output_type": "execute_result"
    }
   ],
   "source": [
    "combined_data['COMMODITY2'].value_counts().astype(str)"
   ]
  },
  {
   "cell_type": "code",
   "execution_count": 39,
   "id": "51c9feae",
   "metadata": {
    "scrolled": true
   },
   "outputs": [
    {
     "data": {
      "text/plain": [
       "TRDTYPE                  0\n",
       "USASTATE            982322\n",
       "DEPE               4409954\n",
       "DISAGMOT                 0\n",
       "MEXSTATE           5027371\n",
       "CANPROV            3357821\n",
       "COUNTRY                  0\n",
       "VALUE                    0\n",
       "SHIPWT                   0\n",
       "FREIGHT_CHARGES          0\n",
       "DF                 2343860\n",
       "CONTCODE                 0\n",
       "MONTH               496662\n",
       "YEAR                     0\n",
       "COMMODITY2         1621611\n",
       "dtype: int64"
      ]
     },
     "execution_count": 39,
     "metadata": {},
     "output_type": "execute_result"
    }
   ],
   "source": [
    "#Checking for null values\n",
    "combined_data.isnull().sum()"
   ]
  },
  {
   "cell_type": "markdown",
   "id": "17f45bad",
   "metadata": {},
   "source": [
    "### Handling Null / Missing vaues"
   ]
  },
  {
   "cell_type": "code",
   "execution_count": 44,
   "id": "27159e5b",
   "metadata": {},
   "outputs": [
    {
     "name": "stdout",
     "output_type": "stream",
     "text": [
      "Current working directory: C:\\Users\\HP\\Downloads\n"
     ]
    }
   ],
   "source": [
    "#import os\n",
    "\n",
    "# Print the current working directory \n",
    "print(\"Current working directory:\", os.getcwd())"
   ]
  },
  {
   "cell_type": "code",
   "execution_count": null,
   "id": "c93a2210",
   "metadata": {},
   "outputs": [],
   "source": []
  }
 ],
 "metadata": {
  "kernelspec": {
   "display_name": "Python 3 (ipykernel)",
   "language": "python",
   "name": "python3"
  },
  "language_info": {
   "codemirror_mode": {
    "name": "ipython",
    "version": 3
   },
   "file_extension": ".py",
   "mimetype": "text/x-python",
   "name": "python",
   "nbconvert_exporter": "python",
   "pygments_lexer": "ipython3",
   "version": "3.11.3"
  }
 },
 "nbformat": 4,
 "nbformat_minor": 5
}
